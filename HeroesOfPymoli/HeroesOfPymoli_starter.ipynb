{
 "cells": [
  {
   "cell_type": "code",
   "execution_count": 1,
   "metadata": {},
   "outputs": [],
   "source": [
    "import pandas as pd"
   ]
  },
  {
   "cell_type": "code",
   "execution_count": 2,
   "metadata": {},
   "outputs": [],
   "source": [
    "file_to_load = \"Resources/purchase_data.csv\"\n",
    "purchase_data = pd.read_csv(file_to_load)"
   ]
  },
  {
   "cell_type": "code",
   "execution_count": 3,
   "metadata": {},
   "outputs": [],
   "source": [
    "# purchase_data.head()"
   ]
  },
  {
   "cell_type": "code",
   "execution_count": 4,
   "metadata": {},
   "outputs": [],
   "source": [
    "purchases_count = len(purchase_data)\n",
    "# print(purchases_count)"
   ]
  },
  {
   "cell_type": "code",
   "execution_count": 5,
   "metadata": {},
   "outputs": [],
   "source": [
    "unique_items = purchase_data[\"Item Name\"].unique()\n",
    "unique_items_num = len(unique_items)\n",
    "# print(unique_items_num)"
   ]
  },
  {
   "cell_type": "code",
   "execution_count": 6,
   "metadata": {},
   "outputs": [],
   "source": [
    "avg_item_price = purchase_data[\"Price\"].mean()\n",
    "# print(avg_item_price)"
   ]
  },
  {
   "cell_type": "code",
   "execution_count": 7,
   "metadata": {},
   "outputs": [],
   "source": [
    "players = purchase_data[\"SN\"].unique()\n",
    "player_count = len(players)\n",
    "# print(player_count)"
   ]
  },
  {
   "cell_type": "code",
   "execution_count": 8,
   "metadata": {},
   "outputs": [],
   "source": [
    "total_revenue = purchase_data[\"Price\"].sum()\n",
    "# print(total_revenue)"
   ]
  },
  {
   "cell_type": "code",
   "execution_count": 9,
   "metadata": {},
   "outputs": [],
   "source": [
    "summary = pd.DataFrame({\"Player count\":[player_count], \"Purchases\":[purchases_count], \"Unique Items\":[unique_items_num], \"Average Item Price\":[avg_item_price], \"Total Revenue\":[total_revenue]})\n",
    "# summary"
   ]
  },
  {
   "cell_type": "code",
   "execution_count": 10,
   "metadata": {},
   "outputs": [],
   "source": [
    "data_demographics = purchase_data.copy()\n",
    "renamed_df = data_demographics[[\"SN\", \"Gender\"]]\n",
    "droppedvalues = renamed_df.drop_duplicates(subset =\"SN\",keep = \"first\")\n",
    "\n",
    "gender_group = droppedvalues.groupby([\"Gender\"])\n",
    "gender_summary = gender_group.count()\n",
    "\n",
    "gender_summary = gender_group.count()\n",
    "gender_summary[\"Percent\"] = gender_summary.sum(axis=1)\n",
    "gender_summary[\"Percent\"] = gender_summary[\"Percent\"] / player_count\n",
    "summary_gender = gender_summary.rename(columns={\"SN\":\"User Count\"})"
   ]
  },
  {
   "cell_type": "code",
   "execution_count": 11,
   "metadata": {},
   "outputs": [],
   "source": [
    "summary_gender = summary_gender.reset_index()\n",
    "# summary_gender"
   ]
  },
  {
   "cell_type": "code",
   "execution_count": 12,
   "metadata": {
    "scrolled": true
   },
   "outputs": [],
   "source": [
    "gender_df = purchase_data[[\"Gender\", \"Price\"]]\n"
   ]
  },
  {
   "cell_type": "code",
   "execution_count": 13,
   "metadata": {},
   "outputs": [],
   "source": [
    "new_df = gender_df.groupby([\"Gender\"])\n",
    "aa = new_df.sum()\n",
    "a = aa.rename(columns={\"Price\":\"Total Revenue\"})\n"
   ]
  },
  {
   "cell_type": "code",
   "execution_count": 14,
   "metadata": {},
   "outputs": [],
   "source": [
    "bb = new_df.mean()\n",
    "b = bb.rename(columns={\"Price\":\"Avg Purchase Price\"})"
   ]
  },
  {
   "cell_type": "markdown",
   "metadata": {},
   "source": [
    "\n"
   ]
  },
  {
   "cell_type": "code",
   "execution_count": 15,
   "metadata": {},
   "outputs": [],
   "source": [
    "cc = new_df.count()\n",
    "c = cc.rename(columns={\"Price\":\"Purchase Count\"})\n",
    "c = c.reset_index()"
   ]
  },
  {
   "cell_type": "code",
   "execution_count": 16,
   "metadata": {},
   "outputs": [],
   "source": [
    "c = c.merge(b,on=\"Gender\")\n",
    "c = c.merge(a,on=\"Gender\")\n",
    "\n",
    "c = c.merge(summary_gender,on=\"Gender\")\n",
    "\n",
    "c[\"Avg Total Purchase per Person\"] = c[\"Total Revenue\"]/c[\"User Count\"]\n"
   ]
  },
  {
   "cell_type": "code",
   "execution_count": 17,
   "metadata": {},
   "outputs": [],
   "source": [
    "gendersummaryfinal = c[[\"Gender\", \"Purchase Count\", \"Avg Purchase Price\", \"Total Revenue\",\"Avg Total Purchase per Person\"]]\n",
    "# gendersummaryfinal"
   ]
  },
  {
   "cell_type": "code",
   "execution_count": 18,
   "metadata": {},
   "outputs": [],
   "source": [
    "bins = [0, 9, 14, 19, 24, 29,34,39,99]\n",
    "labels = [\"<10\", \"10-14\", \"15-19\", \"20-24\", \"25-29\",\"30-34\",\"35-39\",\"+40\"]\n",
    "purchase_data[\"Age Bucket\"] = pd.cut(purchase_data[\"Age\"], bins, labels=labels, include_lowest=True)\n",
    "\n",
    "unique_data = purchase_data.drop_duplicates(subset =\"SN\",keep = \"first\")\n",
    "age_demographics = unique_data.groupby([\"Age Bucket\"])\n",
    "age_demographics = age_demographics[[\"SN\",\"Purchase ID\"]]\n",
    "\n",
    "\n",
    "agedemo = age_demographics.count()\n",
    "agedemo[\"Purchase ID\"]=agedemo[\"Purchase ID\"]/player_count\n",
    "agedemo = agedemo.rename(columns={\"SN\": \"Total Count\",\n",
    "                                        \"Purchase ID\": \"Percentage of Players\"})\n",
    "\n",
    "agedemo = agedemo.reset_index()\n",
    "\n",
    "# agedemo"
   ]
  },
  {
   "cell_type": "code",
   "execution_count": 19,
   "metadata": {},
   "outputs": [],
   "source": [
    "age_purchasing = purchase_data.groupby([\"Age Bucket\"])\n",
    "purchase_count = age_purchasing[[\"Purchase ID\"]].count()"
   ]
  },
  {
   "cell_type": "code",
   "execution_count": 20,
   "metadata": {},
   "outputs": [],
   "source": [
    "average_purchase_price = age_purchasing[\"Price\"].sum() / age_purchasing[\"Purchase ID\"].count()\n",
    "purchase_count[\"Avg Purchase Price\"] = average_purchase_price"
   ]
  },
  {
   "cell_type": "code",
   "execution_count": 21,
   "metadata": {},
   "outputs": [],
   "source": [
    "purchase_count[\"Total Purchase Value\"] = age_purchasing[\"Price\"].sum()"
   ]
  },
  {
   "cell_type": "code",
   "execution_count": 22,
   "metadata": {},
   "outputs": [],
   "source": [
    "purchase_count = purchase_count.merge(agedemo,on=\"Age Bucket\")"
   ]
  },
  {
   "cell_type": "code",
   "execution_count": 23,
   "metadata": {},
   "outputs": [],
   "source": [
    "purchase_count[\"Avg Total Purchase per Person\"] = purchase_count[\"Total Purchase Value\"] / purchase_count[\"Total Count\"]"
   ]
  },
  {
   "cell_type": "code",
   "execution_count": 24,
   "metadata": {},
   "outputs": [],
   "source": [
    "purchase_count = purchase_count[[\"Age Bucket\",\"Purchase ID\",\"Avg Purchase Price\", \"Total Purchase Value\",\"Avg Total Purchase per Person\"]]"
   ]
  },
  {
   "cell_type": "code",
   "execution_count": 25,
   "metadata": {},
   "outputs": [],
   "source": [
    "# purchase_count "
   ]
  },
  {
   "cell_type": "code",
   "execution_count": 26,
   "metadata": {},
   "outputs": [],
   "source": [
    "top_spenders = purchase_data.groupby([\"SN\"])"
   ]
  },
  {
   "cell_type": "code",
   "execution_count": 27,
   "metadata": {},
   "outputs": [],
   "source": [
    "top_summary = top_spenders[[\"Purchase ID\"]].count()\n",
    "\n",
    "top_summary[\"Average Purchase Price\"] = (top_spenders[\"Price\"].sum() / top_spenders[\"Purchase ID\"].count())\n",
    "top_summary[\"Total Purchase Value\"] = top_spenders[[\"Price\"]].sum()\n",
    "top_summary_sorted = top_summary.sort_values([\"Total Purchase Value\"], ascending=False)\n",
    "top_summary_sorted = top_summary_sorted.reset_index()\n",
    "# top_summary_sorted.head()"
   ]
  },
  {
   "cell_type": "code",
   "execution_count": 28,
   "metadata": {},
   "outputs": [],
   "source": [
    "popular_item = purchase_data[[\"Item ID\", \"Item Name\", \"Price\"]]\n",
    "popular = popular_item.groupby([\"Item ID\",\"Item Name\"])\n",
    "\n",
    "list_popular = popular[[\"Item ID\"]].count()\n",
    "list_popular[\"Item Price\"] =  popular[\"Price\"].sum() / popular[\"Item ID\"].count()\n",
    "list_popular[\"Total Purchase Value\"] =  popular[[\"Price\"]].sum()\n",
    "list_popular_renamed = list_popular.rename(columns={\"Item ID\": \"Purchase Count\"})\n",
    "sorted_popular = list_popular_renamed.sort_values([\"Purchase Count\"], ascending=False)\n",
    "# sorted_popular"
   ]
  },
  {
   "cell_type": "code",
   "execution_count": 29,
   "metadata": {},
   "outputs": [],
   "source": [
    "profitable = list_popular.sort_values([\"Total Purchase Value\"], ascending=False)"
   ]
  },
  {
   "cell_type": "code",
   "execution_count": 30,
   "metadata": {},
   "outputs": [],
   "source": [
    "# profitable"
   ]
  },
  {
   "cell_type": "code",
   "execution_count": 31,
   "metadata": {},
   "outputs": [
    {
     "name": "stdout",
     "output_type": "stream",
     "text": [
      "----------------------------------------------------------------------------------------\n",
      "Heroes of Pymoli - Sales Summary\n",
      "----------------------------------------------------------------------------------------\n"
     ]
    }
   ],
   "source": [
    "# Fot¿rmat for all columns"
   ]
  },
  {
   "cell_type": "code",
   "execution_count": 32,
   "metadata": {},
   "outputs": [
    {
     "data": {
      "text/html": [
       "<div>\n",
       "<style scoped>\n",
       "    .dataframe tbody tr th:only-of-type {\n",
       "        vertical-align: middle;\n",
       "    }\n",
       "\n",
       "    .dataframe tbody tr th {\n",
       "        vertical-align: top;\n",
       "    }\n",
       "\n",
       "    .dataframe thead th {\n",
       "        text-align: right;\n",
       "    }\n",
       "</style>\n",
       "<table border=\"1\" class=\"dataframe\">\n",
       "  <thead>\n",
       "    <tr style=\"text-align: right;\">\n",
       "      <th></th>\n",
       "      <th>Player count</th>\n",
       "      <th>Purchases</th>\n",
       "      <th>Unique Items</th>\n",
       "      <th>Average Item Price</th>\n",
       "      <th>Total Revenue</th>\n",
       "    </tr>\n",
       "  </thead>\n",
       "  <tbody>\n",
       "    <tr>\n",
       "      <th>0</th>\n",
       "      <td>576</td>\n",
       "      <td>780</td>\n",
       "      <td>179</td>\n",
       "      <td>$3.05</td>\n",
       "      <td>$2,379.77</td>\n",
       "    </tr>\n",
       "  </tbody>\n",
       "</table>\n",
       "</div>"
      ],
      "text/plain": [
       "   Player count  Purchases  Unique Items Average Item Price Total Revenue\n",
       "0           576        780           179              $3.05     $2,379.77"
      ]
     },
     "execution_count": 32,
     "metadata": {},
     "output_type": "execute_result"
    }
   ],
   "source": [
    "summary[\"Average Item Price\"] = summary[\"Average Item Price\"].astype(float).map(\"${:,.2f}\".format)\n",
    "summary[\"Total Revenue\"] = summary[\"Total Revenue\"].astype(float).map(\"${:,.2f}\".format)\n"
   ]
  },
  {
   "cell_type": "code",
   "execution_count": 33,
   "metadata": {},
   "outputs": [
    {
     "data": {
      "text/html": [
       "<div>\n",
       "<style scoped>\n",
       "    .dataframe tbody tr th:only-of-type {\n",
       "        vertical-align: middle;\n",
       "    }\n",
       "\n",
       "    .dataframe tbody tr th {\n",
       "        vertical-align: top;\n",
       "    }\n",
       "\n",
       "    .dataframe thead th {\n",
       "        text-align: right;\n",
       "    }\n",
       "</style>\n",
       "<table border=\"1\" class=\"dataframe\">\n",
       "  <thead>\n",
       "    <tr style=\"text-align: right;\">\n",
       "      <th></th>\n",
       "      <th>Gender</th>\n",
       "      <th>User Count</th>\n",
       "      <th>Percent</th>\n",
       "    </tr>\n",
       "  </thead>\n",
       "  <tbody>\n",
       "    <tr>\n",
       "      <th>0</th>\n",
       "      <td>Female</td>\n",
       "      <td>81</td>\n",
       "      <td>14.06%</td>\n",
       "    </tr>\n",
       "    <tr>\n",
       "      <th>1</th>\n",
       "      <td>Male</td>\n",
       "      <td>484</td>\n",
       "      <td>84.03%</td>\n",
       "    </tr>\n",
       "    <tr>\n",
       "      <th>2</th>\n",
       "      <td>Other / Non-Disclosed</td>\n",
       "      <td>11</td>\n",
       "      <td>1.91%</td>\n",
       "    </tr>\n",
       "  </tbody>\n",
       "</table>\n",
       "</div>"
      ],
      "text/plain": [
       "                  Gender  User Count Percent\n",
       "0                 Female          81  14.06%\n",
       "1                   Male         484  84.03%\n",
       "2  Other / Non-Disclosed          11   1.91%"
      ]
     },
     "execution_count": 33,
     "metadata": {},
     "output_type": "execute_result"
    }
   ],
   "source": [
    "summary_gender[\"Percent\"] = summary_gender[\"Percent\"].astype(float).map('{:.2%}'.format)\n"
   ]
  },
  {
   "cell_type": "code",
   "execution_count": 34,
   "metadata": {},
   "outputs": [
    {
     "name": "stderr",
     "output_type": "stream",
     "text": [
      "<ipython-input-34-dad4c0c11672>:1: SettingWithCopyWarning: \n",
      "A value is trying to be set on a copy of a slice from a DataFrame.\n",
      "Try using .loc[row_indexer,col_indexer] = value instead\n",
      "\n",
      "See the caveats in the documentation: https://pandas.pydata.org/pandas-docs/stable/user_guide/indexing.html#returning-a-view-versus-a-copy\n",
      "  gendersummaryfinal[\"Avg Total Purchase per Person\"] = gendersummaryfinal[\"Avg Total Purchase per Person\"].astype(float).map(\"${:,.2f}\".format)\n"
     ]
    }
   ],
   "source": [
    "gendersummaryfinal[\"Avg Total Purchase per Person\"] = gendersummaryfinal[\"Avg Total Purchase per Person\"].astype(float).map(\"${:,.2f}\".format)\n"
   ]
  },
  {
   "cell_type": "code",
   "execution_count": 35,
   "metadata": {},
   "outputs": [
    {
     "name": "stderr",
     "output_type": "stream",
     "text": [
      "<ipython-input-35-a2c558455d07>:1: SettingWithCopyWarning: \n",
      "A value is trying to be set on a copy of a slice from a DataFrame.\n",
      "Try using .loc[row_indexer,col_indexer] = value instead\n",
      "\n",
      "See the caveats in the documentation: https://pandas.pydata.org/pandas-docs/stable/user_guide/indexing.html#returning-a-view-versus-a-copy\n",
      "  gendersummaryfinal[\"Avg Purchase Price\"] = gendersummaryfinal[\"Avg Purchase Price\"].astype(float).map(\"${:,.2f}\".format)\n"
     ]
    }
   ],
   "source": [
    "gendersummaryfinal[\"Avg Purchase Price\"] = gendersummaryfinal[\"Avg Purchase Price\"].astype(float).map(\"${:,.2f}\".format)\n"
   ]
  },
  {
   "cell_type": "code",
   "execution_count": 36,
   "metadata": {},
   "outputs": [
    {
     "name": "stderr",
     "output_type": "stream",
     "text": [
      "<ipython-input-36-8e098f816d63>:1: SettingWithCopyWarning: \n",
      "A value is trying to be set on a copy of a slice from a DataFrame.\n",
      "Try using .loc[row_indexer,col_indexer] = value instead\n",
      "\n",
      "See the caveats in the documentation: https://pandas.pydata.org/pandas-docs/stable/user_guide/indexing.html#returning-a-view-versus-a-copy\n",
      "  gendersummaryfinal[\"Total Revenue\"] = gendersummaryfinal[\"Total Revenue\"].astype(float).map(\"${:,.2f}\".format)\n"
     ]
    }
   ],
   "source": [
    "gendersummaryfinal[\"Total Revenue\"] = gendersummaryfinal[\"Total Revenue\"].astype(float).map(\"${:,.2f}\".format)\n"
   ]
  },
  {
   "cell_type": "code",
   "execution_count": 37,
   "metadata": {},
   "outputs": [
    {
     "data": {
      "text/html": [
       "<div>\n",
       "<style scoped>\n",
       "    .dataframe tbody tr th:only-of-type {\n",
       "        vertical-align: middle;\n",
       "    }\n",
       "\n",
       "    .dataframe tbody tr th {\n",
       "        vertical-align: top;\n",
       "    }\n",
       "\n",
       "    .dataframe thead th {\n",
       "        text-align: right;\n",
       "    }\n",
       "</style>\n",
       "<table border=\"1\" class=\"dataframe\">\n",
       "  <thead>\n",
       "    <tr style=\"text-align: right;\">\n",
       "      <th></th>\n",
       "      <th>Gender</th>\n",
       "      <th>Purchase Count</th>\n",
       "      <th>Avg Purchase Price</th>\n",
       "      <th>Total Revenue</th>\n",
       "      <th>Avg Total Purchase per Person</th>\n",
       "    </tr>\n",
       "  </thead>\n",
       "  <tbody>\n",
       "    <tr>\n",
       "      <th>0</th>\n",
       "      <td>Female</td>\n",
       "      <td>113</td>\n",
       "      <td>$3.20</td>\n",
       "      <td>$361.94</td>\n",
       "      <td>$4.47</td>\n",
       "    </tr>\n",
       "    <tr>\n",
       "      <th>1</th>\n",
       "      <td>Male</td>\n",
       "      <td>652</td>\n",
       "      <td>$3.02</td>\n",
       "      <td>$1,967.64</td>\n",
       "      <td>$4.07</td>\n",
       "    </tr>\n",
       "    <tr>\n",
       "      <th>2</th>\n",
       "      <td>Other / Non-Disclosed</td>\n",
       "      <td>15</td>\n",
       "      <td>$3.35</td>\n",
       "      <td>$50.19</td>\n",
       "      <td>$4.56</td>\n",
       "    </tr>\n",
       "  </tbody>\n",
       "</table>\n",
       "</div>"
      ],
      "text/plain": [
       "                  Gender  Purchase Count Avg Purchase Price Total Revenue  \\\n",
       "0                 Female             113              $3.20       $361.94   \n",
       "1                   Male             652              $3.02     $1,967.64   \n",
       "2  Other / Non-Disclosed              15              $3.35        $50.19   \n",
       "\n",
       "  Avg Total Purchase per Person  \n",
       "0                         $4.47  \n",
       "1                         $4.07  \n",
       "2                         $4.56  "
      ]
     },
     "execution_count": 37,
     "metadata": {},
     "output_type": "execute_result"
    }
   ],
   "source": [
    "# Warnings appear to be linked to Python version and dont affect result"
   ]
  },
  {
   "cell_type": "code",
   "execution_count": 38,
   "metadata": {},
   "outputs": [
    {
     "data": {
      "text/html": [
       "<div>\n",
       "<style scoped>\n",
       "    .dataframe tbody tr th:only-of-type {\n",
       "        vertical-align: middle;\n",
       "    }\n",
       "\n",
       "    .dataframe tbody tr th {\n",
       "        vertical-align: top;\n",
       "    }\n",
       "\n",
       "    .dataframe thead th {\n",
       "        text-align: right;\n",
       "    }\n",
       "</style>\n",
       "<table border=\"1\" class=\"dataframe\">\n",
       "  <thead>\n",
       "    <tr style=\"text-align: right;\">\n",
       "      <th></th>\n",
       "      <th>Age Bucket</th>\n",
       "      <th>Total Count</th>\n",
       "      <th>Percentage of Players</th>\n",
       "    </tr>\n",
       "  </thead>\n",
       "  <tbody>\n",
       "    <tr>\n",
       "      <th>0</th>\n",
       "      <td>&lt;10</td>\n",
       "      <td>17</td>\n",
       "      <td>2.95%</td>\n",
       "    </tr>\n",
       "    <tr>\n",
       "      <th>1</th>\n",
       "      <td>10-14</td>\n",
       "      <td>22</td>\n",
       "      <td>3.82%</td>\n",
       "    </tr>\n",
       "    <tr>\n",
       "      <th>2</th>\n",
       "      <td>15-19</td>\n",
       "      <td>107</td>\n",
       "      <td>18.58%</td>\n",
       "    </tr>\n",
       "    <tr>\n",
       "      <th>3</th>\n",
       "      <td>20-24</td>\n",
       "      <td>258</td>\n",
       "      <td>44.79%</td>\n",
       "    </tr>\n",
       "    <tr>\n",
       "      <th>4</th>\n",
       "      <td>25-29</td>\n",
       "      <td>77</td>\n",
       "      <td>13.37%</td>\n",
       "    </tr>\n",
       "    <tr>\n",
       "      <th>5</th>\n",
       "      <td>30-34</td>\n",
       "      <td>52</td>\n",
       "      <td>9.03%</td>\n",
       "    </tr>\n",
       "    <tr>\n",
       "      <th>6</th>\n",
       "      <td>35-39</td>\n",
       "      <td>31</td>\n",
       "      <td>5.38%</td>\n",
       "    </tr>\n",
       "    <tr>\n",
       "      <th>7</th>\n",
       "      <td>+40</td>\n",
       "      <td>12</td>\n",
       "      <td>2.08%</td>\n",
       "    </tr>\n",
       "  </tbody>\n",
       "</table>\n",
       "</div>"
      ],
      "text/plain": [
       "  Age Bucket  Total Count Percentage of Players\n",
       "0        <10           17                 2.95%\n",
       "1      10-14           22                 3.82%\n",
       "2      15-19          107                18.58%\n",
       "3      20-24          258                44.79%\n",
       "4      25-29           77                13.37%\n",
       "5      30-34           52                 9.03%\n",
       "6      35-39           31                 5.38%\n",
       "7        +40           12                 2.08%"
      ]
     },
     "execution_count": 38,
     "metadata": {},
     "output_type": "execute_result"
    }
   ],
   "source": [
    "agedemo[\"Percentage of Players\"] = agedemo[\"Percentage of Players\"].astype(float).map('{:.2%}'.format)\n"
   ]
  },
  {
   "cell_type": "code",
   "execution_count": 39,
   "metadata": {},
   "outputs": [
    {
     "data": {
      "text/html": [
       "<div>\n",
       "<style scoped>\n",
       "    .dataframe tbody tr th:only-of-type {\n",
       "        vertical-align: middle;\n",
       "    }\n",
       "\n",
       "    .dataframe tbody tr th {\n",
       "        vertical-align: top;\n",
       "    }\n",
       "\n",
       "    .dataframe thead th {\n",
       "        text-align: right;\n",
       "    }\n",
       "</style>\n",
       "<table border=\"1\" class=\"dataframe\">\n",
       "  <thead>\n",
       "    <tr style=\"text-align: right;\">\n",
       "      <th></th>\n",
       "      <th>Age Bucket</th>\n",
       "      <th>Purchase ID</th>\n",
       "      <th>Avg Purchase Price</th>\n",
       "      <th>Total Purchase Value</th>\n",
       "      <th>Avg Total Purchase per Person</th>\n",
       "    </tr>\n",
       "  </thead>\n",
       "  <tbody>\n",
       "    <tr>\n",
       "      <th>0</th>\n",
       "      <td>&lt;10</td>\n",
       "      <td>23</td>\n",
       "      <td>$3.35</td>\n",
       "      <td>$77.13</td>\n",
       "      <td>$4.54</td>\n",
       "    </tr>\n",
       "    <tr>\n",
       "      <th>1</th>\n",
       "      <td>10-14</td>\n",
       "      <td>28</td>\n",
       "      <td>$2.96</td>\n",
       "      <td>$82.78</td>\n",
       "      <td>$3.76</td>\n",
       "    </tr>\n",
       "    <tr>\n",
       "      <th>2</th>\n",
       "      <td>15-19</td>\n",
       "      <td>136</td>\n",
       "      <td>$3.04</td>\n",
       "      <td>$412.89</td>\n",
       "      <td>$3.86</td>\n",
       "    </tr>\n",
       "    <tr>\n",
       "      <th>3</th>\n",
       "      <td>20-24</td>\n",
       "      <td>365</td>\n",
       "      <td>$3.05</td>\n",
       "      <td>$1,114.06</td>\n",
       "      <td>$4.32</td>\n",
       "    </tr>\n",
       "    <tr>\n",
       "      <th>4</th>\n",
       "      <td>25-29</td>\n",
       "      <td>101</td>\n",
       "      <td>$2.90</td>\n",
       "      <td>$293.00</td>\n",
       "      <td>$3.81</td>\n",
       "    </tr>\n",
       "    <tr>\n",
       "      <th>5</th>\n",
       "      <td>30-34</td>\n",
       "      <td>73</td>\n",
       "      <td>$2.93</td>\n",
       "      <td>$214.00</td>\n",
       "      <td>$4.12</td>\n",
       "    </tr>\n",
       "    <tr>\n",
       "      <th>6</th>\n",
       "      <td>35-39</td>\n",
       "      <td>41</td>\n",
       "      <td>$3.60</td>\n",
       "      <td>$147.67</td>\n",
       "      <td>$4.76</td>\n",
       "    </tr>\n",
       "    <tr>\n",
       "      <th>7</th>\n",
       "      <td>+40</td>\n",
       "      <td>13</td>\n",
       "      <td>$2.94</td>\n",
       "      <td>$38.24</td>\n",
       "      <td>$3.19</td>\n",
       "    </tr>\n",
       "  </tbody>\n",
       "</table>\n",
       "</div>"
      ],
      "text/plain": [
       "  Age Bucket  Purchase ID Avg Purchase Price Total Purchase Value  \\\n",
       "0        <10           23              $3.35               $77.13   \n",
       "1      10-14           28              $2.96               $82.78   \n",
       "2      15-19          136              $3.04              $412.89   \n",
       "3      20-24          365              $3.05            $1,114.06   \n",
       "4      25-29          101              $2.90              $293.00   \n",
       "5      30-34           73              $2.93              $214.00   \n",
       "6      35-39           41              $3.60              $147.67   \n",
       "7        +40           13              $2.94               $38.24   \n",
       "\n",
       "  Avg Total Purchase per Person  \n",
       "0                         $4.54  \n",
       "1                         $3.76  \n",
       "2                         $3.86  \n",
       "3                         $4.32  \n",
       "4                         $3.81  \n",
       "5                         $4.12  \n",
       "6                         $4.76  \n",
       "7                         $3.19  "
      ]
     },
     "execution_count": 39,
     "metadata": {},
     "output_type": "execute_result"
    }
   ],
   "source": [
    "purchase_count[\"Avg Purchase Price\"] = purchase_count[\"Avg Purchase Price\"].astype(float).map(\"${:,.2f}\".format)\n",
    "purchase_count[\"Total Purchase Value\"] = purchase_count[\"Total Purchase Value\"].astype(float).map(\"${:,.2f}\".format)\n",
    "purchase_count[\"Avg Total Purchase per Person\"] = purchase_count[\"Avg Total Purchase per Person\"].astype(float).map(\"${:,.2f}\".format)\n",
    "\n",
    "\n"
   ]
  },
  {
   "cell_type": "code",
   "execution_count": 40,
   "metadata": {},
   "outputs": [],
   "source": [
    "top_summary_sorted[\"Average Purchase Price\"] = top_summary_sorted[\"Average Purchase Price\"].astype(float).map(\"${:,.2f}\".format)\n",
    "top_summary_sorted[\"Total Purchase Value\"] = top_summary_sorted[\"Total Purchase Value\"].astype(float).map(\"${:,.2f}\".format)"
   ]
  },
  {
   "cell_type": "code",
   "execution_count": 42,
   "metadata": {},
   "outputs": [
    {
     "data": {
      "text/html": [
       "<div>\n",
       "<style scoped>\n",
       "    .dataframe tbody tr th:only-of-type {\n",
       "        vertical-align: middle;\n",
       "    }\n",
       "\n",
       "    .dataframe tbody tr th {\n",
       "        vertical-align: top;\n",
       "    }\n",
       "\n",
       "    .dataframe thead th {\n",
       "        text-align: right;\n",
       "    }\n",
       "</style>\n",
       "<table border=\"1\" class=\"dataframe\">\n",
       "  <thead>\n",
       "    <tr style=\"text-align: right;\">\n",
       "      <th></th>\n",
       "      <th>Item ID</th>\n",
       "      <th>Item Name</th>\n",
       "      <th>Purchase Count</th>\n",
       "      <th>Item Price</th>\n",
       "      <th>Total Purchase Value</th>\n",
       "    </tr>\n",
       "  </thead>\n",
       "  <tbody>\n",
       "    <tr>\n",
       "      <th>0</th>\n",
       "      <td>92</td>\n",
       "      <td>Final Critic</td>\n",
       "      <td>13</td>\n",
       "      <td>$4.61</td>\n",
       "      <td>$59.99</td>\n",
       "    </tr>\n",
       "    <tr>\n",
       "      <th>1</th>\n",
       "      <td>178</td>\n",
       "      <td>Oathbreaker, Last Hope of the Breaking Storm</td>\n",
       "      <td>12</td>\n",
       "      <td>$4.23</td>\n",
       "      <td>$50.76</td>\n",
       "    </tr>\n",
       "    <tr>\n",
       "      <th>2</th>\n",
       "      <td>145</td>\n",
       "      <td>Fiery Glass Crusader</td>\n",
       "      <td>9</td>\n",
       "      <td>$4.58</td>\n",
       "      <td>$41.22</td>\n",
       "    </tr>\n",
       "    <tr>\n",
       "      <th>3</th>\n",
       "      <td>132</td>\n",
       "      <td>Persuasion</td>\n",
       "      <td>9</td>\n",
       "      <td>$3.22</td>\n",
       "      <td>$28.99</td>\n",
       "    </tr>\n",
       "    <tr>\n",
       "      <th>4</th>\n",
       "      <td>108</td>\n",
       "      <td>Extraction, Quickblade Of Trembling Hands</td>\n",
       "      <td>9</td>\n",
       "      <td>$3.53</td>\n",
       "      <td>$31.77</td>\n",
       "    </tr>\n",
       "    <tr>\n",
       "      <th>...</th>\n",
       "      <td>...</td>\n",
       "      <td>...</td>\n",
       "      <td>...</td>\n",
       "      <td>...</td>\n",
       "      <td>...</td>\n",
       "    </tr>\n",
       "    <tr>\n",
       "      <th>174</th>\n",
       "      <td>42</td>\n",
       "      <td>The Decapitator</td>\n",
       "      <td>1</td>\n",
       "      <td>$1.75</td>\n",
       "      <td>$1.75</td>\n",
       "    </tr>\n",
       "    <tr>\n",
       "      <th>175</th>\n",
       "      <td>51</td>\n",
       "      <td>Endbringer</td>\n",
       "      <td>1</td>\n",
       "      <td>$4.66</td>\n",
       "      <td>$4.66</td>\n",
       "    </tr>\n",
       "    <tr>\n",
       "      <th>176</th>\n",
       "      <td>118</td>\n",
       "      <td>Ghost Reaver, Longsword of Magic</td>\n",
       "      <td>1</td>\n",
       "      <td>$2.17</td>\n",
       "      <td>$2.17</td>\n",
       "    </tr>\n",
       "    <tr>\n",
       "      <th>177</th>\n",
       "      <td>104</td>\n",
       "      <td>Gladiator's Glaive</td>\n",
       "      <td>1</td>\n",
       "      <td>$1.93</td>\n",
       "      <td>$1.93</td>\n",
       "    </tr>\n",
       "    <tr>\n",
       "      <th>178</th>\n",
       "      <td>91</td>\n",
       "      <td>Celeste</td>\n",
       "      <td>1</td>\n",
       "      <td>$4.17</td>\n",
       "      <td>$4.17</td>\n",
       "    </tr>\n",
       "  </tbody>\n",
       "</table>\n",
       "<p>179 rows × 5 columns</p>\n",
       "</div>"
      ],
      "text/plain": [
       "     Item ID                                     Item Name  Purchase Count  \\\n",
       "0         92                                  Final Critic              13   \n",
       "1        178  Oathbreaker, Last Hope of the Breaking Storm              12   \n",
       "2        145                          Fiery Glass Crusader               9   \n",
       "3        132                                    Persuasion               9   \n",
       "4        108     Extraction, Quickblade Of Trembling Hands               9   \n",
       "..       ...                                           ...             ...   \n",
       "174       42                               The Decapitator               1   \n",
       "175       51                                    Endbringer               1   \n",
       "176      118              Ghost Reaver, Longsword of Magic               1   \n",
       "177      104                            Gladiator's Glaive               1   \n",
       "178       91                                       Celeste               1   \n",
       "\n",
       "    Item Price Total Purchase Value  \n",
       "0        $4.61               $59.99  \n",
       "1        $4.23               $50.76  \n",
       "2        $4.58               $41.22  \n",
       "3        $3.22               $28.99  \n",
       "4        $3.53               $31.77  \n",
       "..         ...                  ...  \n",
       "174      $1.75                $1.75  \n",
       "175      $4.66                $4.66  \n",
       "176      $2.17                $2.17  \n",
       "177      $1.93                $1.93  \n",
       "178      $4.17                $4.17  \n",
       "\n",
       "[179 rows x 5 columns]"
      ]
     },
     "execution_count": 42,
     "metadata": {},
     "output_type": "execute_result"
    }
   ],
   "source": [
    "sorted_popular = sorted_popular.reset_index()\n",
    "sorted_popular[\"Item Price\"] = sorted_popular[\"Item Price\"].astype(float).map(\"${:,.2f}\".format)\n",
    "sorted_popular[\"Total Purchase Value\"] = sorted_popular[\"Total Purchase Value\"].astype(float).map(\"${:,.2f}\".format)\n"
   ]
  },
  {
   "cell_type": "code",
   "execution_count": 43,
   "metadata": {},
   "outputs": [
    {
     "data": {
      "text/html": [
       "<div>\n",
       "<style scoped>\n",
       "    .dataframe tbody tr th:only-of-type {\n",
       "        vertical-align: middle;\n",
       "    }\n",
       "\n",
       "    .dataframe tbody tr th {\n",
       "        vertical-align: top;\n",
       "    }\n",
       "\n",
       "    .dataframe thead th {\n",
       "        text-align: right;\n",
       "    }\n",
       "</style>\n",
       "<table border=\"1\" class=\"dataframe\">\n",
       "  <thead>\n",
       "    <tr style=\"text-align: right;\">\n",
       "      <th></th>\n",
       "      <th></th>\n",
       "      <th>Item ID</th>\n",
       "      <th>Item Price</th>\n",
       "      <th>Total Purchase Value</th>\n",
       "    </tr>\n",
       "    <tr>\n",
       "      <th>Item ID</th>\n",
       "      <th>Item Name</th>\n",
       "      <th></th>\n",
       "      <th></th>\n",
       "      <th></th>\n",
       "    </tr>\n",
       "  </thead>\n",
       "  <tbody>\n",
       "    <tr>\n",
       "      <th>92</th>\n",
       "      <th>Final Critic</th>\n",
       "      <td>13</td>\n",
       "      <td>$4.61</td>\n",
       "      <td>$59.99</td>\n",
       "    </tr>\n",
       "    <tr>\n",
       "      <th>178</th>\n",
       "      <th>Oathbreaker, Last Hope of the Breaking Storm</th>\n",
       "      <td>12</td>\n",
       "      <td>$4.23</td>\n",
       "      <td>$50.76</td>\n",
       "    </tr>\n",
       "    <tr>\n",
       "      <th>82</th>\n",
       "      <th>Nirvana</th>\n",
       "      <td>9</td>\n",
       "      <td>$4.90</td>\n",
       "      <td>$44.10</td>\n",
       "    </tr>\n",
       "    <tr>\n",
       "      <th>145</th>\n",
       "      <th>Fiery Glass Crusader</th>\n",
       "      <td>9</td>\n",
       "      <td>$4.58</td>\n",
       "      <td>$41.22</td>\n",
       "    </tr>\n",
       "    <tr>\n",
       "      <th>103</th>\n",
       "      <th>Singed Scalpel</th>\n",
       "      <td>8</td>\n",
       "      <td>$4.35</td>\n",
       "      <td>$34.80</td>\n",
       "    </tr>\n",
       "    <tr>\n",
       "      <th>...</th>\n",
       "      <th>...</th>\n",
       "      <td>...</td>\n",
       "      <td>...</td>\n",
       "      <td>...</td>\n",
       "    </tr>\n",
       "    <tr>\n",
       "      <th>28</th>\n",
       "      <th>Flux, Destroyer of Due Diligence</th>\n",
       "      <td>2</td>\n",
       "      <td>$1.06</td>\n",
       "      <td>$2.12</td>\n",
       "    </tr>\n",
       "    <tr>\n",
       "      <th>125</th>\n",
       "      <th>Whistling Mithril Warblade</th>\n",
       "      <td>2</td>\n",
       "      <td>$1.00</td>\n",
       "      <td>$2.00</td>\n",
       "    </tr>\n",
       "    <tr>\n",
       "      <th>126</th>\n",
       "      <th>Exiled Mithril Longsword</th>\n",
       "      <td>1</td>\n",
       "      <td>$2.00</td>\n",
       "      <td>$2.00</td>\n",
       "    </tr>\n",
       "    <tr>\n",
       "      <th>104</th>\n",
       "      <th>Gladiator's Glaive</th>\n",
       "      <td>1</td>\n",
       "      <td>$1.93</td>\n",
       "      <td>$1.93</td>\n",
       "    </tr>\n",
       "    <tr>\n",
       "      <th>42</th>\n",
       "      <th>The Decapitator</th>\n",
       "      <td>1</td>\n",
       "      <td>$1.75</td>\n",
       "      <td>$1.75</td>\n",
       "    </tr>\n",
       "  </tbody>\n",
       "</table>\n",
       "<p>179 rows × 3 columns</p>\n",
       "</div>"
      ],
      "text/plain": [
       "                                                      Item ID Item Price  \\\n",
       "Item ID Item Name                                                          \n",
       "92      Final Critic                                       13      $4.61   \n",
       "178     Oathbreaker, Last Hope of the Breaking Storm       12      $4.23   \n",
       "82      Nirvana                                             9      $4.90   \n",
       "145     Fiery Glass Crusader                                9      $4.58   \n",
       "103     Singed Scalpel                                      8      $4.35   \n",
       "...                                                       ...        ...   \n",
       "28      Flux, Destroyer of Due Diligence                    2      $1.06   \n",
       "125     Whistling Mithril Warblade                          2      $1.00   \n",
       "126     Exiled Mithril Longsword                            1      $2.00   \n",
       "104     Gladiator's Glaive                                  1      $1.93   \n",
       "42      The Decapitator                                     1      $1.75   \n",
       "\n",
       "                                                     Total Purchase Value  \n",
       "Item ID Item Name                                                          \n",
       "92      Final Critic                                               $59.99  \n",
       "178     Oathbreaker, Last Hope of the Breaking Storm               $50.76  \n",
       "82      Nirvana                                                    $44.10  \n",
       "145     Fiery Glass Crusader                                       $41.22  \n",
       "103     Singed Scalpel                                             $34.80  \n",
       "...                                                                   ...  \n",
       "28      Flux, Destroyer of Due Diligence                            $2.12  \n",
       "125     Whistling Mithril Warblade                                  $2.00  \n",
       "126     Exiled Mithril Longsword                                    $2.00  \n",
       "104     Gladiator's Glaive                                          $1.93  \n",
       "42      The Decapitator                                             $1.75  \n",
       "\n",
       "[179 rows x 3 columns]"
      ]
     },
     "execution_count": 43,
     "metadata": {},
     "output_type": "execute_result"
    }
   ],
   "source": [
    "profitable[\"Item Price\"] = profitable[\"Item Price\"].astype(float).map(\"${:,.2f}\".format)\n",
    "profitable[\"Total Purchase Value\"] = profitable[\"Total Purchase Value\"].astype(float).map(\"${:,.2f}\".format)\n",
    "\n"
   ]
  },
  {
   "cell_type": "code",
   "execution_count": null,
   "metadata": {},
   "outputs": [],
   "source": [
    "print(\"----------------------------------------------------------------------------------------\")\n",
    "print(\"Heroes of Pymoli - Sales Summary\")\n",
    "print(\"----------------------------------------------------------------------------------------\")"
   ]
  },
  {
   "cell_type": "code",
   "execution_count": null,
   "metadata": {},
   "outputs": [],
   "source": [
    "summary"
   ]
  },
  {
   "cell_type": "code",
   "execution_count": null,
   "metadata": {},
   "outputs": [],
   "source": [
    "summary_gender"
   ]
  },
  {
   "cell_type": "code",
   "execution_count": null,
   "metadata": {},
   "outputs": [],
   "source": [
    "gendersummaryfinal"
   ]
  },
  {
   "cell_type": "code",
   "execution_count": null,
   "metadata": {},
   "outputs": [],
   "source": [
    "agedemo"
   ]
  },
  {
   "cell_type": "code",
   "execution_count": null,
   "metadata": {},
   "outputs": [],
   "source": [
    "purchase_count"
   ]
  },
  {
   "cell_type": "code",
   "execution_count": null,
   "metadata": {},
   "outputs": [],
   "source": [
    "top_summary_sorted"
   ]
  },
  {
   "cell_type": "code",
   "execution_count": null,
   "metadata": {},
   "outputs": [],
   "source": [
    "sorted_popular"
   ]
  },
  {
   "cell_type": "code",
   "execution_count": null,
   "metadata": {},
   "outputs": [],
   "source": [
    "profitable"
   ]
  }
 ],
 "metadata": {
  "anaconda-cloud": {},
  "kernel_info": {
   "name": "python3"
  },
  "kernelspec": {
   "display_name": "Python 3",
   "language": "python",
   "name": "python3"
  },
  "language_info": {
   "codemirror_mode": {
    "name": "ipython",
    "version": 3
   },
   "file_extension": ".py",
   "mimetype": "text/x-python",
   "name": "python",
   "nbconvert_exporter": "python",
   "pygments_lexer": "ipython3",
   "version": "3.8.5"
  },
  "latex_envs": {
   "LaTeX_envs_menu_present": true,
   "autoclose": false,
   "autocomplete": true,
   "bibliofile": "biblio.bib",
   "cite_by": "apalike",
   "current_citInitial": 1,
   "eqLabelWithNumbers": true,
   "eqNumInitial": 1,
   "hotkeys": {
    "equation": "Ctrl-E",
    "itemize": "Ctrl-I"
   },
   "labels_anchors": false,
   "latex_user_defs": false,
   "report_style_numbering": false,
   "user_envs_cfg": false
  },
  "nteract": {
   "version": "0.2.0"
  }
 },
 "nbformat": 4,
 "nbformat_minor": 2
}
